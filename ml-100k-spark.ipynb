{
 "cells": [
  {
   "cell_type": "code",
   "execution_count": 1,
   "metadata": {
    "collapsed": false
   },
   "outputs": [
    {
     "data": {
      "text/html": [
       "\n",
       "        <div>\n",
       "            <p><b>SparkContext</b></p>\n",
       "\n",
       "            <p><a href=\"http://192.168.1.108:4040\">Spark UI</a></p>\n",
       "\n",
       "            <dl>\n",
       "              <dt>Version</dt>\n",
       "                <dd><code>v2.2.0</code></dd>\n",
       "              <dt>Master</dt>\n",
       "                <dd><code>local[*]</code></dd>\n",
       "              <dt>AppName</dt>\n",
       "                <dd><code>PySparkShell</code></dd>\n",
       "            </dl>\n",
       "        </div>\n",
       "        "
      ],
      "text/plain": [
       "<SparkContext master=local[*] appName=PySparkShell>"
      ]
     },
     "execution_count": 1,
     "metadata": {},
     "output_type": "execute_result"
    }
   ],
   "source": [
    "sc"
   ]
  },
  {
   "cell_type": "code",
   "execution_count": 4,
   "metadata": {
    "collapsed": true
   },
   "outputs": [],
   "source": [
    "user_data = sc.textFile('ml-100k/u.user')"
   ]
  },
  {
   "cell_type": "code",
   "execution_count": 5,
   "metadata": {
    "collapsed": false
   },
   "outputs": [
    {
     "data": {
      "text/plain": [
       "'1|24|M|technician|85711'"
      ]
     },
     "execution_count": 5,
     "metadata": {},
     "output_type": "execute_result"
    }
   ],
   "source": [
    "user_data.first()"
   ]
  },
  {
   "cell_type": "code",
   "execution_count": 6,
   "metadata": {
    "collapsed": true
   },
   "outputs": [],
   "source": [
    "user_fields = user_data.map(lambda line: line.split('|'))"
   ]
  },
  {
   "cell_type": "code",
   "execution_count": 7,
   "metadata": {
    "collapsed": true
   },
   "outputs": [],
   "source": [
    "num_users = user_fields.map(lambda fields:fields[0]).count()  # 统计用户数"
   ]
  },
  {
   "cell_type": "code",
   "execution_count": 8,
   "metadata": {
    "collapsed": true
   },
   "outputs": [],
   "source": [
    "num_genders = user_fields.map(lambda fields: fields[2]).distinct().count()  # gender count"
   ]
  },
  {
   "cell_type": "code",
   "execution_count": 9,
   "metadata": {
    "collapsed": true
   },
   "outputs": [],
   "source": [
    "num_occupations = user_fields.map(lambda fields: fields[3]).distinct().count()  # occupations count"
   ]
  },
  {
   "cell_type": "code",
   "execution_count": 10,
   "metadata": {
    "collapsed": true
   },
   "outputs": [],
   "source": [
    "num_zipcodes = user_fields.map(lambda fields: fields[4]).distinct().count()"
   ]
  },
  {
   "cell_type": "code",
   "execution_count": 12,
   "metadata": {
    "collapsed": false
   },
   "outputs": [
    {
     "name": "stdout",
     "output_type": "stream",
     "text": [
      "Users: 943, Genders: 2, occupations: 21, zipcodes: 795\n"
     ]
    }
   ],
   "source": [
    "print(\"Users: %d, Genders: %d, occupations: %d, zipcodes: %d\" \\\n",
    "      %(num_users, num_genders, num_occupations, num_zipcodes))"
   ]
  },
  {
   "cell_type": "code",
   "execution_count": 14,
   "metadata": {
    "collapsed": false
   },
   "outputs": [],
   "source": [
    "##age distribution\n",
    "%matplotlib inline\n",
    "import matplotlib.pyplot as plt\n",
    "ages = user_fields.map(lambda x: int(x[1])).collect()"
   ]
  },
  {
   "cell_type": "code",
   "execution_count": 19,
   "metadata": {
    "collapsed": false
   },
   "outputs": [
    {
     "data": {
      "image/png": "[encoded data removed]",
      "text/plain": [
       "<matplotlib.figure.Figure at 0x7f3915645d68>"
      ]
     },
     "metadata": {},
     "output_type": "display_data"
    }
   ],
   "source": [
    "plt.hist(ages, bins=20, color='lightblue', normed=True)\n",
    "fig = plt.gcf()\n",
    "fig.set_size_inches(12, 6)\n",
    "plt.show()"
   ]
  },
  {
   "cell_type": "code",
   "execution_count": 21,
   "metadata": {
    "collapsed": false
   },
   "outputs": [],
   "source": [
    "# occupations distribution\n",
    "import numpy as np\n",
    "count_by_occupation = user_fields.map(lambda fields: (fields[3], 1)).reduceByKey(lambda x, y: x + y).collect()"
   ]
  },
  {
   "cell_type": "code",
   "execution_count": 22,
   "metadata": {
    "collapsed": false
   },
   "outputs": [
    {
     "name": "stdout",
     "output_type": "stream",
     "text": [
      "[('other', 105), ('executive', 32), ('administrator', 79), ('student', 196), ('educator', 95), ('programmer', 66), ('homemaker', 7), ('artist', 28), ('engineer', 67), ('none', 9), ('retired', 14), ('doctor', 7), ('technician', 27), ('writer', 45), ('lawyer', 12), ('scientist', 31), ('entertainment', 18), ('librarian', 51), ('marketing', 26), ('healthcare', 16), ('salesman', 12)]\n"
     ]
    }
   ],
   "source": [
    "print(count_by_occupation)"
   ]
  },
  {
   "cell_type": "code",
   "execution_count": 24,
   "metadata": {
    "collapsed": false
   },
   "outputs": [
    {
     "data": {
      "image/png": "[encoded data removed]",
      "text/plain": [
       "<matplotlib.figure.Figure at 0x7f39155b8dd8>"
      ]
     },
     "metadata": {},
     "output_type": "display_data"
    }
   ],
   "source": [
    "# 按个数排序\n",
    "x_axis1 = np.array([c[0] for c in count_by_occupation])\n",
    "y_axis1 = np.array([c[1] for c in count_by_occupation])\n",
    "x_axis = x_axis1[np.argsort(y_axis1)]\n",
    "y_axis = y_axis1[np.argsort(y_axis1)]\n",
    "pos = np.arange(len(x_axis))\n",
    "width = 1.0\n",
    "ax = plt.axes()\n",
    "ax.set_xticks(pos+(width)/2)\n",
    "ax.set_xticklabels(x_axis)\n",
    "\n",
    "plt.bar(pos, y_axis, width, color='lightblue')\n",
    "plt.xticks(rotation=30)\n",
    "fig = plt.gcf()\n",
    "fig.set_size_inches(12,6)\n",
    "plt.show()"
   ]
  },
  {
   "cell_type": "code",
   "execution_count": 26,
   "metadata": {
    "collapsed": false
   },
   "outputs": [
    {
     "name": "stdout",
     "output_type": "stream",
     "text": [
      "Map-reduce approach:\n",
      "{'technician': 27, 'other': 105, 'writer': 45, 'executive': 32, 'administrator': 79, 'student': 196, 'lawyer': 12, 'educator': 95, 'scientist': 31, 'entertainment': 18, 'programmer': 66, 'librarian': 51, 'homemaker': 7, 'artist': 28, 'engineer': 67, 'marketing': 26, 'none': 9, 'healthcare': 16, 'retired': 14, 'salesman': 12, 'doctor': 7}\n",
      "========================\n",
      "countByValue approach:\n",
      "{'other': 105, 'executive': 32, 'administrator': 79, 'student': 196, 'educator': 95, 'programmer': 66, 'homemaker': 7, 'artist': 28, 'engineer': 67, 'none': 9, 'retired': 14, 'doctor': 7, 'technician': 27, 'writer': 45, 'lawyer': 12, 'scientist': 31, 'entertainment': 18, 'librarian': 51, 'marketing': 26, 'healthcare': 16, 'salesman': 12}\n"
     ]
    }
   ],
   "source": [
    "# approach 2: countbyValue\n",
    "count_by_occupation2 = user_fields.map(lambda fields: fields[3]).countByValue()\n",
    "print(\"Map-reduce approach:\")\n",
    "print(dict(count_by_occupation2))\n",
    "print(\"========================\")\n",
    "print(\"countByValue approach:\")\n",
    "print(dict(count_by_occupation))"
   ]
  },
  {
   "cell_type": "code",
   "execution_count": 27,
   "metadata": {
    "collapsed": false
   },
   "outputs": [
    {
     "data": {
      "text/plain": [
       "'1|Toy Story (1995)|01-Jan-1995||http://us.imdb.com/M/title-exact?Toy%20Story%20(1995)|0|0|0|1|1|1|0|0|0|0|0|0|0|0|0|0|0|0|0'"
      ]
     },
     "execution_count": 27,
     "metadata": {},
     "output_type": "execute_result"
    }
   ],
   "source": [
    "##explore movie data\n",
    "movie_data = sc.textFile(\"ml-100k/u.item\")\n",
    "movie_data.first()"
   ]
  },
  {
   "cell_type": "code",
   "execution_count": 28,
   "metadata": {
    "collapsed": true
   },
   "outputs": [],
   "source": [
    "num_movies =movie_data.count()"
   ]
  },
  {
   "cell_type": "code",
   "execution_count": 29,
   "metadata": {
    "collapsed": false
   },
   "outputs": [
    {
     "data": {
      "text/plain": [
       "1682"
      ]
     },
     "execution_count": 29,
     "metadata": {},
     "output_type": "execute_result"
    }
   ],
   "source": [
    "num_movies"
   ]
  },
  {
   "cell_type": "code",
   "execution_count": 32,
   "metadata": {
    "collapsed": false
   },
   "outputs": [
    {
     "data": {
      "text/plain": [
       "1681"
      ]
     },
     "execution_count": 32,
     "metadata": {},
     "output_type": "execute_result"
    }
   ],
   "source": [
    "##电影发行年份分布\n",
    "def convert_year(x):\n",
    "    try :\n",
    "        return int(x[-4:])\n",
    "    except:\n",
    "        return 1900\n",
    "    \n",
    "movie_fields = movie_data.map(lambda lines: lines.split('|'))\n",
    "years = movie_fields.map(lambda fields: fields[2]).map(lambda x: convert_year(x))\n",
    "years_filtered = years.filter(lambda x: x!=1900)\n",
    "years_filtered.count()"
   ]
  },
  {
   "cell_type": "code",
   "execution_count": 37,
   "metadata": {
    "collapsed": false
   },
   "outputs": [
    {
     "data": {
      "image/png": "[encoded data removed]",
      "text/plain": [
       "<matplotlib.figure.Figure at 0x7f3915966128>"
      ]
     },
     "metadata": {},
     "output_type": "display_data"
    }
   ],
   "source": [
    "movie_ages = years_filtered.map(lambda yr: 1998 - yr).countByValue()  # 截止至1998年采集的数据\n",
    "values = list(movie_ages.values())\n",
    "bins = sorted(movie_ages.keys())\n",
    "plt.hist(values, bins=bins, color='lightblue', normed=True)\n",
    "fig = plt.gcf()\n",
    "fig.set_size_inches(12, 6)\n",
    "plt.show()"
   ]
  },
  {
   "cell_type": "code",
   "execution_count": 60,
   "metadata": {
    "collapsed": false
   },
   "outputs": [
    {
     "name": "stdout",
     "output_type": "stream",
     "text": [
      "196\t242\t3\t881250949\n",
      "100000\n"
     ]
    }
   ],
   "source": [
    "##探索评分数据集\n",
    "rating_data = sc.textFile('ml-100k/u.data')\n",
    "print(rating_data.first())\n",
    "num_ratings = rating_data.count()\n",
    "print(num_ratings)"
   ]
  },
  {
   "cell_type": "code",
   "execution_count": 62,
   "metadata": {
    "collapsed": false
   },
   "outputs": [
    {
     "data": {
      "text/plain": [
       "['196', '242', '3', '881250949']"
      ]
     },
     "execution_count": 62,
     "metadata": {},
     "output_type": "execute_result"
    }
   ],
   "source": [
    "rating_data.map(lambda lines: lines.split('\\t')).collect()[0]"
   ]
  },
  {
   "cell_type": "code",
   "execution_count": 63,
   "metadata": {
    "collapsed": false
   },
   "outputs": [
    {
     "name": "stdout",
     "output_type": "stream",
     "text": [
      "Min rating: 1\n",
      "max rating: 5\n",
      "Average rating: 3.53\n",
      "Median rating: 4 \n",
      "Average # of ratings per user: 106.04\n",
      "Average # of ratings per movie: 59.45\n"
     ]
    }
   ],
   "source": [
    "rating_data = rating_data.map(lambda lines: lines.split('\\t'))\n",
    "ratings = rating_data.map(lambda fields: int(fields[2]))\n",
    "max_rating = ratings.reduce(lambda x, y: max(x, y))\n",
    "min_rating = ratings.reduce(lambda x, y: min(x, y))\n",
    "mean_rating = ratings.reduce(lambda x, y: x + y)/num_ratings\n",
    "median_rating = np.median(ratings.collect())\n",
    "ratings_per_user = num_ratings/num_users\n",
    "ratings_per_movie = num_ratings/num_movies\n",
    "print('Min rating: %d' %min_rating)\n",
    "print('max rating: %d' % max_rating)\n",
    "print('Average rating: %2.2f' %mean_rating)\n",
    "print('Median rating: %d '%median_rating)\n",
    "print('Average # of ratings per user: %2.2f'%ratings_per_user)\n",
    "print('Average # of ratings per movie: %2.2f' % ratings_per_movie)"
   ]
  },
  {
   "cell_type": "code",
   "execution_count": 64,
   "metadata": {
    "collapsed": false
   },
   "outputs": [
    {
     "data": {
      "text/plain": [
       "(count: 100000, mean: 3.5298600000000024, stdev: 1.12566797076, max: 5.0, min: 1.0)"
      ]
     },
     "execution_count": 64,
     "metadata": {},
     "output_type": "execute_result"
    }
   ],
   "source": [
    "ratings.stats()"
   ]
  },
  {
   "cell_type": "code",
   "execution_count": 77,
   "metadata": {
    "collapsed": false
   },
   "outputs": [
    {
     "name": "stdout",
     "output_type": "stream",
     "text": [
      "defaultdict(<class 'int'>, {3: 27145, 1: 6110, 2: 11370, 4: 34174, 5: 21201})\n"
     ]
    },
    {
     "data": {
      "image/png": "[encoded data removed]",
      "text/plain": [
       "<matplotlib.figure.Figure at 0x7f39159fd4e0>"
      ]
     },
     "metadata": {},
     "output_type": "display_data"
    }
   ],
   "source": [
    "# rating频率分布\n",
    "count_by_rating = ratings.countByValue()\n",
    "print(count_by_rating)\n",
    "x_axis = np.array(list(count_by_rating.keys()))\n",
    "\n",
    "y_axis = np.array([float(c) for c in count_by_rating.values()])\n",
    "y_axis = y_axis[np.argsort(x_axis)]\n",
    "x_axis = x_axis[np.argsort(x_axis)]\n",
    "\n",
    "y_axis_normed = y_axis/y_axis.sum()\n",
    "pos = np.arange(len(x_axis))\n",
    "width = 1.0\n",
    "ax = plt.axes()\n",
    "ax.set_xticks(pos+(width/2))\n",
    "ax.set_xticklabels(x_axis)\n",
    "\n",
    "plt.bar(pos, y_axis_normed, width, color='lightblue')\n",
    "plt.xticks(rotation=30)\n",
    "fig = plt.gcf()\n",
    "fig.set_size_inches(12,6)\n",
    "plt.show()"
   ]
  },
  {
   "cell_type": "code",
   "execution_count": 88,
   "metadata": {
    "collapsed": false
   },
   "outputs": [
    {
     "data": {
      "text/plain": [
       "[(196, 39), (186, 92), (22, 128), (244, 238), (166, 20)]"
      ]
     },
     "execution_count": 88,
     "metadata": {},
     "output_type": "execute_result"
    }
   ],
   "source": [
    "##计算每个用户和其对应的评价次数\n",
    "user_ratings_grouped = rating_data.map(lambda fields: (int(fields[0]), int(fields[2]))).groupByKey()\n",
    "user_rating_byuser = user_ratings_grouped.map(lambda items: (items[0],len(items[1])))\n",
    "user_rating_byuser.take(5)"
   ]
  },
  {
   "cell_type": "code",
   "execution_count": 90,
   "metadata": {
    "collapsed": false
   },
   "outputs": [
    {
     "data": {
      "image/png": "[encoded data removed]",
      "text/plain": [
       "<matplotlib.figure.Figure at 0x7f39151c1668>"
      ]
     },
     "metadata": {},
     "output_type": "display_data"
    }
   ],
   "source": [
    "user_ratings_byuser_local = user_rating_byuser.map(lambda items: items[1]).collect()\n",
    "plt.hist(user_ratings_byuser_local, bins=200, color = 'lightblue',normed = True)\n",
    "fig = plt.gcf()\n",
    "fig.set_size_inches(12,6)\n",
    "plt.show()"
   ]
  },
  {
   "cell_type": "code",
   "execution_count": 91,
   "metadata": {
    "collapsed": false
   },
   "outputs": [
    {
     "data": {
      "text/plain": [
       "[(242, 117), (302, 297), (346, 126), (474, 194), (86, 150)]"
      ]
     },
     "execution_count": 91,
     "metadata": {},
     "output_type": "execute_result"
    }
   ],
   "source": [
    "## 为每部电影计算他的被评论的次数\n",
    "movie_ratings_group = rating_data.map(lambda fields: (int(fields[1]), int(fields[2]))).groupByKey()\n",
    "movie_ratings_byuser = movie_ratings_group.map(lambda items: (items[0], len(items[1])))\n",
    "movie_ratings_byuser.take(5)"
   ]
  },
  {
   "cell_type": "code",
   "execution_count": 93,
   "metadata": {
    "collapsed": false
   },
   "outputs": [
    {
     "data": {
      "image/png": "[encoded data removed]",
      "text/plain": [
       "<matplotlib.figure.Figure at 0x7f39151c1898>"
      ]
     },
     "metadata": {},
     "output_type": "display_data"
    }
   ],
   "source": [
    "# 绘制电影评论次数分布图：\n",
    "movie_ratings_byuser_local = movie_ratings_byuser.map(lambda items: items[1]).collect()\n",
    "plt.hist(movie_ratings_byuser_local,bins=200,color='lightblue',normed=True)\n",
    "fig = plt.gcf()\n",
    "fig.set_size_inches(12,6)\n",
    "plt.show()"
   ]
  },
  {
   "cell_type": "markdown",
   "metadata": {},
   "source": [
    "### 数据处理和转换"
   ]
  },
  {
   "cell_type": "code",
   "execution_count": 95,
   "metadata": {
    "collapsed": false
   },
   "outputs": [
    {
     "name": "stdout",
     "output_type": "stream",
     "text": [
      "Mean year of release: 1989\n",
      "Median year of release: 1995 \n",
      "Index of '1900' after assigning median: []\n"
     ]
    }
   ],
   "source": [
    "# 用指定值替换bad values和missing values\n",
    "years_pre_processed = movie_fields.map(\n",
    "    lambda fields: fields[2]).map(lambda x: convert_year(x)).collect()\n",
    "years_pre_processed_array = np.array(years_pre_processed)\n",
    "mean_year = np.mean(years_pre_processed_array[years_pre_processed_array != 1900])\n",
    "median_year = np.median(years_pre_processed_array[years_pre_processed_array != 1900])\n",
    "index_bad_data = np.where(years_pre_processed_array==1900)\n",
    "years_pre_processed_array[index_bad_data] = median_year\n",
    "print('Mean year of release: %d' % mean_year)\n",
    "print('Median year of release: %d ' % median_year)\n",
    "print(\"Index of '1900' after assigning median: %s\" % np.where(years_pre_processed_array==1900)[0])"
   ]
  },
  {
   "cell_type": "markdown",
   "metadata": {},
   "source": [
    "## 从数据中提取有用的特征\n",
    "\n",
    "### 数值特征\n",
    "原始的数值和一个数值特征之间的区别是什么?实际上,任何数值数据都能作为输入变量。但是,机器学习模型中所学习的是各个特征所对应的向量的权值。这些权值在特征值到输出或是目标变量(指在监督学习模型中)的映射过程中扮演重要角色。\n",
    "由此我们会想使用那些合理的特征,让模型能从这些特征学到特征值和目标变量之间的关系。比如年龄就是一个合理的特征。年龄的增加和某项支出之间可能就存在直接关系。类似地,高度也是一个可直接使用的数值特征。\n",
    "当数值特征仍处于原始形式时,其可用性相对较低,但可以转化为更有用的表示形式。位置信息便是如此。若使用原始位置信息(比如用经纬度表示的),我们的模型可能学习不到该信息和某个输出之间的有用关系,这就使得该信息的可用性不高,除非数据点的确很密集。然而若对位置进行聚合或挑选后(比如聚焦为一个城市或国家),便容易和特定输出之间存在某种关联了。\n",
    "### 类别特征\n",
    "当类别特征仍为原始形式时,其取值来自所有可能取值所构成的集合而不是一个数字,故不能作为输入。如之前的例子中的用户职业便是一个类别特征变量,其可能取值有学生、程序员等。\n",
    "这样的类别特征也称作名义(nominal)变量,即其各个可能取值之间没有顺序关系。相反,那些存在顺序关系的(比如之前提到的评级,从定义上说评级5会高于或是好于评级1)则被称为有序(ordinal)变量。\n",
    "###  派生特征\n",
    "从现有的一个或多个变量派生出新的特征常常是有帮助的。理想情况下,派生出的特征能比原始特征带来更多的信息。\n",
    "比如,可以分别计算各用户已有的电影评级的平均数。这将能给模型加入针对不同用户的个性化特征(事实上,这常用于推荐系统)。在前文中我们也从原始的评级数据里创建了新的特征以学习出更好的模型。\n",
    "从原始数据派生特征的例子包括计算平均值、中位值、方差、和、差、最大值或最小值以及计数。在先前内容中,我们也看到是如何从电影的发行年份和当前年份派生了新的movie age特征的。这类转换背后的想法常常是对数值数据进行某种概括,并期望它能让模型学习更容易。\n",
    "数值特征到类别特征的转换也很常见,比如划分为区间特征。进行这类转换的变量常见的有年龄、地理位置和时间。 \n",
    "将时间戳转为类别特征 \n",
    "### 文本特征\n",
    "从某种意义上说,文本特征也是一种类别特征或派生特征。下面以电影的描述(我们的数据集中不含该数据)来举例。即便作为类别数据,其原始的文本也不能直接使用。因为假设每个单词都是一种可能的取值,那单词之间可能出现的组合有几乎无限种。这时模型几乎看不到有相同的特征出现两次,学习的效果也就不理想。从中可以看出,我们会希望将原始的文本转换为一种9更便于机器学习的形式。\n",
    "文本的处理方式有很多种。自然语言处理便是专注于文本内容的处理、表示和建模的一个领域。关于文本处理的完整内容并不在本书的讨论范围内,但我们会介绍一种简单且标准化的文本特征提取方法。该方法被称为词袋(bag-of-word)表示法。 \n",
    "词袋法将一段文本视为由其中的文本或数字组成的集合,其处理过程如下。\n",
    " 分词(tokenization):首先会应用某些分词方法来将文本分隔为一个由词(一般如单词、数字等)组成的集合。可用的方法如空白分隔法。这种方法在空白处对文本分隔并可能还删除其他如标点符号和其他非字母或数字字符。\n",
    " 删除停用词(stop words removal):之后,它通常会删除常见的单词,比如the、and和but(这些词被称作停用词)。\n",
    " 提取词干(stemming):下一步则是词干的提取。这是指将各个词简化为其基本的形式或者干词。常见的例子如复数变为单数(比如dogs变为dog等)。提取的方法有很多种,文本处理算法库中常常会包括多种词干提取方法。\n",
    " 向量化(vectorization):最后一步就是用向量来表示处理好的词。二元向量可能是最为简单的表示方式。它用1和0来分别表示是否存在某个词。从根本上说,这与之前提到的k之1编码相同。与k之1相同,它需要一个词的字典来实现词到索引序号的映射。随着遇到的词增多,各种词可能达数百万。由此,使用稀疏矩阵来表示就很关键。这种表示只记录某个词是否出现过,从而节省内存和磁盘空间,以及计算时间。 \n",
    "### 规范化特征"
   ]
  },
  {
   "cell_type": "code",
   "execution_count": 96,
   "metadata": {
    "collapsed": false
   },
   "outputs": [
    {
     "name": "stdout",
     "output_type": "stream",
     "text": [
      "Encoding of 'doctor': 2\n",
      "Encoding of 'programmer': 14\n"
     ]
    }
   ],
   "source": [
    "### 类别特征\n",
    "all_occupations = user_fields.map(lambda fields:fields[3]).distinct().collect()\n",
    "all_occupations.sort()\n",
    "idx = 0\n",
    "all_occupations_dict = {}\n",
    "for o in all_occupations:\n",
    "    all_occupations_dict[o] = idx\n",
    "    idx +=1\n",
    "print(\"Encoding of 'doctor': %d\" %all_occupations_dict['doctor'])\n",
    "print(\"Encoding of 'programmer': %d\" % all_occupations_dict['programmer'])"
   ]
  },
  {
   "cell_type": "code",
   "execution_count": 97,
   "metadata": {
    "collapsed": false
   },
   "outputs": [
    {
     "name": "stdout",
     "output_type": "stream",
     "text": [
      "Binary feature vector: [ 0.  0.  0.  0.  0.  0.  0.  0.  0.  0.  0.  0.  0.  0.  1.  0.  0.  0.\n",
      "  0.  0.  0.]\n",
      "Length of binray vector: 21\n"
     ]
    }
   ],
   "source": [
    "#上面将categorical features转换到数值型的，但是经常我们在做数据处理的时候，\n",
    "# 这类彼此之间没有潜在排序信息的数据，应该进行dummies处理：\n",
    "K=len(all_occupations_dict)\n",
    "binary_x = np.zeros(K)\n",
    "k_programmer = all_occupations_dict['programmer']\n",
    "binary_x[k_programmer] = 1\n",
    "print('Binary feature vector: %s' % binary_x)\n",
    "print('Length of binray vector: %d' % K)"
   ]
  },
  {
   "cell_type": "code",
   "execution_count": 100,
   "metadata": {
    "collapsed": false
   },
   "outputs": [
    {
     "data": {
      "text/plain": [
       "[23, 3, 15, 13, 13]"
      ]
     },
     "execution_count": 100,
     "metadata": {},
     "output_type": "execute_result"
    }
   ],
   "source": [
    "### 派生特征\n",
    "def extract_datetime(ts):\n",
    "    from datetime import datetime\n",
    "    return datetime.fromtimestamp(ts)\n",
    "timestamps = rating_data.map(lambda fields: int(fields[3]))\n",
    "hour_of_day = timestamps.map(lambda ts: extract_datetime(ts).hour)\n",
    "hour_of_day.take(5)"
   ]
  },
  {
   "cell_type": "code",
   "execution_count": 107,
   "metadata": {
    "collapsed": false
   },
   "outputs": [
    {
     "data": {
      "text/plain": [
       "['night', 'night', 'afternoon', 'lunch', 'lunch']"
      ]
     },
     "execution_count": 107,
     "metadata": {},
     "output_type": "execute_result"
    }
   ],
   "source": [
    "### 按时间划分为morning, lunch, afternoon, evening, night\n",
    "def assign_tod(hr):\n",
    "    times_of_day = {\n",
    "        'morning':range(7,12),\n",
    "        'lunch': range(12,14),\n",
    "        'afternoon':range(14,18),\n",
    "        'evening':range(18,23),\n",
    "        'night': [23,24,0,1,2,3,4,5,6]\n",
    "        }\n",
    "    for k,v in times_of_day.items():\n",
    "        if hr in v:\n",
    "            return k\n",
    "time_of_day = hour_of_day.map(lambda hr: assign_tod(hr))\n",
    "time_of_day.take(5)"
   ]
  },
  {
   "cell_type": "code",
   "execution_count": 109,
   "metadata": {
    "collapsed": false
   },
   "outputs": [
    {
     "name": "stdout",
     "output_type": "stream",
     "text": [
      "Encoding of 'afternoon': 0\n",
      "Encoding of 'morning': 3\n",
      "Encoding of 'lunch': 2\n"
     ]
    }
   ],
   "source": [
    "### 然后对这些时间段做dummies处理，编码成[0,0,0,0,1]，操作类似于原来的职业统计处理的时候：\n",
    "time_of_day_unique = time_of_day.map(lambda fields:fields).distinct().collect()\n",
    "time_of_day_unique.sort()\n",
    "idx = 0\n",
    "time_of_day_unique_dict = {}\n",
    "for o in time_of_day_unique:\n",
    "    time_of_day_unique_dict[o] = idx\n",
    "    idx +=1\n",
    "print(\"Encoding of 'afternoon': %d\" %time_of_day_unique_dict['afternoon'])\n",
    "print(\"Encoding of 'morning': %d\" % time_of_day_unique_dict['morning'])\n",
    "print(\"Encoding of 'lunch': %d\" % time_of_day_unique_dict['lunch'])"
   ]
  },
  {
   "cell_type": "code",
   "execution_count": 110,
   "metadata": {
    "collapsed": false
   },
   "outputs": [
    {
     "name": "stdout",
     "output_type": "stream",
     "text": [
      "Toy Story\n",
      "GoldenEye\n",
      "Four Rooms\n",
      "Get Shorty\n",
      "Copycat\n"
     ]
    }
   ],
   "source": [
    "### 文本特征\n",
    "\n",
    "def extract_title(raw):\n",
    "    import re\n",
    "    grps = re.search(\"\\((\\w+)\\)\",raw)\n",
    "    if grps:\n",
    "        return raw[:grps.start()].strip()\n",
    "    else:\n",
    "        return raw\n",
    "raw_titles = movie_fields.map(lambda fields: fields[1])\n",
    "for raw_title in raw_titles.take(5):\n",
    "    print(extract_title(raw_title))"
   ]
  },
  {
   "cell_type": "code",
   "execution_count": 113,
   "metadata": {
    "collapsed": false
   },
   "outputs": [
    {
     "name": "stdout",
     "output_type": "stream",
     "text": [
      "[['Toy', 'Story'], ['GoldenEye'], ['Four', 'Rooms'], ['Get', 'Shorty'], ['Copycat']]\n"
     ]
    }
   ],
   "source": [
    "movie_titles = raw_titles.map(lambda m: extract_title(m))\n",
    "title_terms = movie_titles.map(lambda m:m.split(' '))\n",
    "print(title_terms.take(5))"
   ]
  },
  {
   "cell_type": "code",
   "execution_count": 114,
   "metadata": {
    "collapsed": false
   },
   "outputs": [
    {
     "name": "stdout",
     "output_type": "stream",
     "text": [
      "Total number of terms: 2645\n",
      "Index of term 'Dead': 9\n",
      "Index of term 'Rooms': 2\n"
     ]
    }
   ],
   "source": [
    "all_terms = title_terms.flatMap(lambda x: x).distinct().collect()\n",
    "idx = 0\n",
    "all_terms_dict = {}\n",
    "for term in all_terms:\n",
    "    all_terms_dict[term] = idx\n",
    "    idx+=1\n",
    "    \n",
    "print(\"Total number of terms: %d\" % len(all_terms_dict))\n",
    "print(\"Index of term 'Dead': %d\" % all_terms_dict['Dead'])\n",
    "print(\"Index of term 'Rooms': %d\" % all_terms_dict['Rooms'])"
   ]
  },
  {
   "cell_type": "code",
   "execution_count": 115,
   "metadata": {
    "collapsed": false
   },
   "outputs": [
    {
     "name": "stdout",
     "output_type": "stream",
     "text": [
      "Index of term 'Dead 9\n",
      "Index of term 'Rooms': 2\n"
     ]
    }
   ],
   "source": [
    "### 上面的代码也可以用Spark内置的zipWithIndex来完成：\n",
    "all_terms_dict2 = title_terms.flatMap(lambda x:x).distinct().zipWithIndex().collectAsMap()\n",
    "print(\"Index of term 'Dead %d\" % all_terms_dict['Dead'])\n",
    "print(\"Index of term 'Rooms': %d\" % all_terms_dict['Rooms'])"
   ]
  },
  {
   "cell_type": "code",
   "execution_count": 116,
   "metadata": {
    "collapsed": false
   },
   "outputs": [
    {
     "data": {
      "text/plain": [
       "[<1x2645 sparse matrix of type '<class 'numpy.float64'>'\n",
       " \twith 2 stored elements in Compressed Sparse Column format>,\n",
       " <1x2645 sparse matrix of type '<class 'numpy.float64'>'\n",
       " \twith 1 stored elements in Compressed Sparse Column format>,\n",
       " <1x2645 sparse matrix of type '<class 'numpy.float64'>'\n",
       " \twith 2 stored elements in Compressed Sparse Column format>,\n",
       " <1x2645 sparse matrix of type '<class 'numpy.float64'>'\n",
       " \twith 2 stored elements in Compressed Sparse Column format>,\n",
       " <1x2645 sparse matrix of type '<class 'numpy.float64'>'\n",
       " \twith 1 stored elements in Compressed Sparse Column format>]"
      ]
     },
     "execution_count": 116,
     "metadata": {},
     "output_type": "execute_result"
    }
   ],
   "source": [
    "### 到了这里，我们就要想着如何把这些数据存储下来，如何使用，\n",
    "### 如果按前面对categorical var的处理方式，做dummies处理直接存储，显然会浪费太多的空间，\n",
    "### 我们在这里采用压缩稀疏(csc_matrix)的存储方式。\n",
    "def create_vector(terms, term_dict):\n",
    "    from scipy import sparse as sp\n",
    "    num_terms = len(term_dict)\n",
    "    x = sp.csc_matrix((1,num_terms))\n",
    "    for t in terms:\n",
    "        if t in term_dict:\n",
    "            idx = term_dict[t]\n",
    "            x[0,idx] = 1\n",
    "    return x\n",
    "all_terms_bcast = sc.broadcast(all_terms_dict)\n",
    "term_vectors = title_terms.map(lambda terms: create_vector(terms,all_terms_bcast.value))\n",
    "term_vectors.take(5)"
   ]
  },
  {
   "cell_type": "code",
   "execution_count": 117,
   "metadata": {
    "collapsed": false
   },
   "outputs": [
    {
     "name": "stdout",
     "output_type": "stream",
     "text": [
      "x:\n",
      "[ 0.49671415 -0.1382643   0.64768854  1.52302986 -0.23415337 -0.23413696\n",
      "  1.57921282  0.76743473 -0.46947439  0.54256004]\n",
      "2-Norm of x: 2.5908\n",
      "Normalized x:\n",
      "[ 0.19172213 -0.05336737  0.24999534  0.58786029 -0.09037871 -0.09037237\n",
      "  0.60954584  0.29621508 -0.1812081   0.20941776]\n",
      "2-Norm of normalized_x: 1.0000\n"
     ]
    }
   ],
   "source": [
    "### 规范化特征\n",
    "np.random.seed(42)\n",
    "x = np.random.randn(10)\n",
    "norm_x_2 = np.linalg.norm(x)\n",
    "normalized_x = x / norm_x_2\n",
    "print(\"x:\\n%s\" % x)\n",
    "print(\"2-Norm of x: %2.4f\" % norm_x_2)\n",
    "print(\"Normalized x:\\n%s\" % normalized_x)\n",
    "print(\"2-Norm of normalized_x: %2.4f\" %np.linalg.norm(normalized_x))"
   ]
  },
  {
   "cell_type": "code",
   "execution_count": 118,
   "metadata": {
    "collapsed": false
   },
   "outputs": [
    {
     "name": "stdout",
     "output_type": "stream",
     "text": [
      "x:\n",
      "[ 0.49671415 -0.1382643   0.64768854  1.52302986 -0.23415337 -0.23413696\n",
      "  1.57921282  0.76743473 -0.46947439  0.54256004]\n",
      "2-Norm of x: 2.5908\n",
      "Normalized x:\n",
      "[ 0.19172213 -0.05336737  0.24999534  0.58786029 -0.09037871 -0.09037237\n",
      "  0.60954584  0.29621508 -0.1812081   0.20941776]\n",
      "Normalized x MLlib:\n",
      "[ 0.19172213 -0.05336737  0.24999534  0.58786029 -0.09037871 -0.09037237\n",
      "  0.60954584  0.29621508 -0.1812081   0.20941776]\n",
      "2-Norm of normalized_x_mllib: 1.0000\n"
     ]
    }
   ],
   "source": [
    "### 使用MLlib来做特征归一化\n",
    "from pyspark.mllib.feature import Normalizer\n",
    "normlizer = Normalizer()\n",
    "vector = sc.parallelize([x])\n",
    "normalized_x_mllib = normlizer.transform(vector).first().toArray()\n",
    "\n",
    "print(\"x:\\n%s\" % x)\n",
    "print(\"2-Norm of x: %2.4f\" % norm_x_2)\n",
    "print(\"Normalized x:\\n%s\" % normalized_x)\n",
    "print(\"Normalized x MLlib:\\n%s\" % normalized_x_mllib)\n",
    "print(\"2-Norm of normalized_x_mllib: %2.4f\" % np.linalg.norm(normalized_x_mllib))"
   ]
  },
  {
   "cell_type": "code",
   "execution_count": null,
   "metadata": {
    "collapsed": true
   },
   "outputs": [],
   "source": []
  }
 ],
 "metadata": {
  "kernelspec": {
   "display_name": "Python 3",
   "language": "python",
   "name": "python3"
  },
  "language_info": {
   "codemirror_mode": {
    "name": "ipython",
    "version": 3
   },
   "file_extension": ".py",
   "mimetype": "text/x-python",
   "name": "python",
   "nbconvert_exporter": "python",
   "pygments_lexer": "ipython3",
   "version": "3.6.1"
  }
 },
 "nbformat": 4,
 "nbformat_minor": 2
}
